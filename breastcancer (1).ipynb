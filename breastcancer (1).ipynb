{
 "cells": [
  {
   "cell_type": "code",
   "execution_count": 2,
   "id": "e95704b7-f6df-419d-8428-e4ba30ced57d",
   "metadata": {},
   "outputs": [
    {
     "name": "stdout",
     "output_type": "stream",
     "text": [
      "Requirement already satisfied: transformers in c:\\users\\lakshmi prasanna\\anaconda3\\lib\\site-packages (4.42.3)\n",
      "Requirement already satisfied: timm in c:\\users\\lakshmi prasanna\\anaconda3\\lib\\site-packages (1.0.7)\n",
      "Requirement already satisfied: pillow in c:\\users\\lakshmi prasanna\\anaconda3\\lib\\site-packages (10.2.0)\n",
      "Requirement already satisfied: requests in c:\\users\\lakshmi prasanna\\anaconda3\\lib\\site-packages (2.31.0)\n",
      "Requirement already satisfied: filelock in c:\\users\\lakshmi prasanna\\anaconda3\\lib\\site-packages (from transformers) (3.13.1)\n",
      "Requirement already satisfied: huggingface-hub<1.0,>=0.23.2 in c:\\users\\lakshmi prasanna\\anaconda3\\lib\\site-packages (from transformers) (0.23.4)\n",
      "Requirement already satisfied: numpy<2.0,>=1.17 in c:\\users\\lakshmi prasanna\\anaconda3\\lib\\site-packages (from transformers) (1.26.4)\n",
      "Requirement already satisfied: packaging>=20.0 in c:\\users\\lakshmi prasanna\\anaconda3\\lib\\site-packages (from transformers) (23.1)\n",
      "Requirement already satisfied: pyyaml>=5.1 in c:\\users\\lakshmi prasanna\\anaconda3\\lib\\site-packages (from transformers) (6.0.1)\n",
      "Requirement already satisfied: regex!=2019.12.17 in c:\\users\\lakshmi prasanna\\anaconda3\\lib\\site-packages (from transformers) (2023.10.3)\n",
      "Requirement already satisfied: safetensors>=0.4.1 in c:\\users\\lakshmi prasanna\\anaconda3\\lib\\site-packages (from transformers) (0.4.3)\n",
      "Requirement already satisfied: tokenizers<0.20,>=0.19 in c:\\users\\lakshmi prasanna\\anaconda3\\lib\\site-packages (from transformers) (0.19.1)\n",
      "Requirement already satisfied: tqdm>=4.27 in c:\\users\\lakshmi prasanna\\anaconda3\\lib\\site-packages (from transformers) (4.65.0)\n",
      "Requirement already satisfied: torch in c:\\users\\lakshmi prasanna\\anaconda3\\lib\\site-packages (from timm) (2.3.1)\n",
      "Requirement already satisfied: torchvision in c:\\users\\lakshmi prasanna\\anaconda3\\lib\\site-packages (from timm) (0.18.1)\n",
      "Requirement already satisfied: charset-normalizer<4,>=2 in c:\\users\\lakshmi prasanna\\anaconda3\\lib\\site-packages (from requests) (2.0.4)\n",
      "Requirement already satisfied: idna<4,>=2.5 in c:\\users\\lakshmi prasanna\\anaconda3\\lib\\site-packages (from requests) (3.4)\n",
      "Requirement already satisfied: urllib3<3,>=1.21.1 in c:\\users\\lakshmi prasanna\\anaconda3\\lib\\site-packages (from requests) (2.0.7)\n",
      "Requirement already satisfied: certifi>=2017.4.17 in c:\\users\\lakshmi prasanna\\anaconda3\\lib\\site-packages (from requests) (2024.2.2)\n",
      "Requirement already satisfied: fsspec>=2023.5.0 in c:\\users\\lakshmi prasanna\\anaconda3\\lib\\site-packages (from huggingface-hub<1.0,>=0.23.2->transformers) (2023.10.0)\n",
      "Requirement already satisfied: typing-extensions>=3.7.4.3 in c:\\users\\lakshmi prasanna\\anaconda3\\lib\\site-packages (from huggingface-hub<1.0,>=0.23.2->transformers) (4.9.0)\n",
      "Requirement already satisfied: colorama in c:\\users\\lakshmi prasanna\\anaconda3\\lib\\site-packages (from tqdm>=4.27->transformers) (0.4.6)\n",
      "Requirement already satisfied: sympy in c:\\users\\lakshmi prasanna\\anaconda3\\lib\\site-packages (from torch->timm) (1.12)\n",
      "Requirement already satisfied: networkx in c:\\users\\lakshmi prasanna\\anaconda3\\lib\\site-packages (from torch->timm) (3.1)\n",
      "Requirement already satisfied: jinja2 in c:\\users\\lakshmi prasanna\\anaconda3\\lib\\site-packages (from torch->timm) (3.1.3)\n",
      "Requirement already satisfied: mkl<=2021.4.0,>=2021.1.1 in c:\\users\\lakshmi prasanna\\anaconda3\\lib\\site-packages (from torch->timm) (2021.4.0)\n",
      "Requirement already satisfied: intel-openmp==2021.* in c:\\users\\lakshmi prasanna\\anaconda3\\lib\\site-packages (from mkl<=2021.4.0,>=2021.1.1->torch->timm) (2021.4.0)\n",
      "Requirement already satisfied: tbb==2021.* in c:\\users\\lakshmi prasanna\\anaconda3\\lib\\site-packages (from mkl<=2021.4.0,>=2021.1.1->torch->timm) (2021.13.0)\n",
      "Requirement already satisfied: MarkupSafe>=2.0 in c:\\users\\lakshmi prasanna\\anaconda3\\lib\\site-packages (from jinja2->torch->timm) (2.1.3)\n",
      "Requirement already satisfied: mpmath>=0.19 in c:\\users\\lakshmi prasanna\\anaconda3\\lib\\site-packages (from sympy->torch->timm) (1.3.0)\n"
     ]
    }
   ],
   "source": [
    "!pip install transformers timm pillow requests"
   ]
  },
  {
   "cell_type": "code",
   "execution_count": 9,
   "id": "0cab41ce-6efb-4cca-871c-ed7de6154fae",
   "metadata": {},
   "outputs": [
    {
     "name": "stderr",
     "output_type": "stream",
     "text": [
      "Some weights of the model checkpoint at facebook/detr-resnet-50 were not used when initializing DetrForObjectDetection: ['model.backbone.conv_encoder.model.layer1.0.downsample.1.num_batches_tracked', 'model.backbone.conv_encoder.model.layer2.0.downsample.1.num_batches_tracked', 'model.backbone.conv_encoder.model.layer3.0.downsample.1.num_batches_tracked', 'model.backbone.conv_encoder.model.layer4.0.downsample.1.num_batches_tracked']\n",
      "- This IS expected if you are initializing DetrForObjectDetection from the checkpoint of a model trained on another task or with another architecture (e.g. initializing a BertForSequenceClassification model from a BertForPreTraining model).\n",
      "- This IS NOT expected if you are initializing DetrForObjectDetection from the checkpoint of a model that you expect to be exactly identical (initializing a BertForSequenceClassification model from a BertForSequenceClassification model).\n"
     ]
    },
    {
     "name": "stdout",
     "output_type": "stream",
     "text": [
      "The image contains cancer.\n"
     ]
    }
   ],
   "source": [
    "from transformers import pipeline\n",
    "import requests\n",
    "from PIL import Image, ImageDraw, ImageFont\n",
    "\n",
    "# Set up the object detection pipeline with a specialized model\n",
    "detector = pipeline(\"object-detection\", model=\"facebook/detr-resnet-50\")\n",
    "\n",
    "# Image URL\n",
    "image_url = \"https://prod-images-static.radiopaedia.org/images/1396118/b73eab20f8ce05a91b01c2b554f83e_big_gallery.jpg\"\n",
    "\n",
    "# Perform object detection on the image\n",
    "output = detector(image_url)\n",
    "\n",
    "# Load the image from the URL\n",
    "image = Image.open(requests.get(image_url, stream=True).raw)\n",
    "\n",
    "# Create an ImageDraw object for drawing on the image\n",
    "draw = ImageDraw.Draw(image)\n",
    "\n",
    "# Define a color for the bounding boxes and labels\n",
    "color = (255, 0, 0)  # RGB color for the text\n",
    "outline_color = (255, 0, 0)  # RGB color for the bounding boxes\n",
    "\n",
    "# Define a font for text (adjust font path as necessary)\n",
    "try:\n",
    "    font = ImageFont.truetype(\"arial.ttf\", 15)\n",
    "except IOError:\n",
    "    font = ImageFont.load_default()\n",
    "\n",
    "# Iterate over the results and draw the bounding boxes and confidence scores\n",
    "contains_cancer = False\n",
    "for result in output:\n",
    "    box = result[\"box\"]\n",
    "    confidence = result[\"score\"]\n",
    "    label = result[\"label\"]\n",
    "    # Here we assume a label that might indicate cancer detection\n",
    "    if \"person\" in label.lower() and confidence > 0.5:  # Adjust condition based on actual label\n",
    "        contains_cancer = True\n",
    "    draw.rectangle(((box[\"xmin\"], box[\"ymin\"]), (box[\"xmax\"], box[\"ymax\"])), outline=outline_color)\n",
    "    draw.text((box[\"xmin\"], box[\"ymin\"] - 10), f\"{label}: {confidence:.2f}\", fill=color, font=font)\n",
    "\n",
    "# Display the image with the bounding boxes and confidence scores\n",
    "image.show()\n",
    "\n",
    "# Save the annotated image\n",
    "image.save(\"annotated_image.jpg\")\n",
    "\n",
    "# Display whether the image contains cancer\n",
    "if contains_cancer:\n",
    "    print(\"The image contains cancer.\")\n",
    "else:\n",
    "    print(\"The image does not contain cancer.\")\n"
   ]
  },
  {
   "cell_type": "code",
   "execution_count": 12,
   "id": "fa9bec54-e205-4e0d-ba65-481fb7d1a4f3",
   "metadata": {},
   "outputs": [
    {
     "name": "stderr",
     "output_type": "stream",
     "text": [
      "Some weights of the model checkpoint at facebook/detr-resnet-50 were not used when initializing DetrForObjectDetection: ['model.backbone.conv_encoder.model.layer1.0.downsample.1.num_batches_tracked', 'model.backbone.conv_encoder.model.layer2.0.downsample.1.num_batches_tracked', 'model.backbone.conv_encoder.model.layer3.0.downsample.1.num_batches_tracked', 'model.backbone.conv_encoder.model.layer4.0.downsample.1.num_batches_tracked']\n",
      "- This IS expected if you are initializing DetrForObjectDetection from the checkpoint of a model trained on another task or with another architecture (e.g. initializing a BertForSequenceClassification model from a BertForPreTraining model).\n",
      "- This IS NOT expected if you are initializing DetrForObjectDetection from the checkpoint of a model that you expect to be exactly identical (initializing a BertForSequenceClassification model from a BertForSequenceClassification model).\n"
     ]
    },
    {
     "name": "stdout",
     "output_type": "stream",
     "text": [
      "The image does not contain cancer.\n"
     ]
    }
   ],
   "source": [
    "from transformers import pipeline\n",
    "import requests\n",
    "from PIL import Image, ImageDraw, ImageFont\n",
    "\n",
    "# Set up the object detection pipeline with a specialized model\n",
    "detector = pipeline(\"object-detection\", model=\"facebook/detr-resnet-50\")\n",
    "\n",
    "# Image URL\n",
    "image_url = \"https://tse2.mm.bing.net/th?id=OIP.ENQUvUAkDChJSP8OnUcLbQHaFj&pid=Api&P=0&h=220\"\n",
    "\n",
    "# Perform object detection on the image\n",
    "output = detector(image_url)\n",
    "\n",
    "# Load the image from the URL\n",
    "image = Image.open(requests.get(image_url, stream=True).raw)\n",
    "\n",
    "# Create an ImageDraw object for drawing on the image\n",
    "draw = ImageDraw.Draw(image)\n",
    "\n",
    "# Define a color for the bounding boxes and labels\n",
    "color = (255, 0, 0)  # RGB color for the text\n",
    "outline_color = (255, 0, 0)  # RGB color for the bounding boxes\n",
    "\n",
    "# Define a font for text (adjust font path as necessary)\n",
    "try:\n",
    "    font = ImageFont.truetype(\"arial.ttf\", 15)\n",
    "except IOError:\n",
    "    font = ImageFont.load_default()\n",
    "\n",
    "# Iterate over the results and draw the bounding boxes and confidence scores\n",
    "contains_cancer = False\n",
    "for result in output:\n",
    "    box = result[\"box\"]\n",
    "    confidence = result[\"score\"]\n",
    "    label = result[\"label\"]\n",
    "    # Here we assume a label that might indicate cancer detection\n",
    "    if \"person\" in label.lower() and confidence > 0.5:  # Adjust condition based on actual label\n",
    "        contains_cancer = True\n",
    "    draw.rectangle(((box[\"xmin\"], box[\"ymin\"]), (box[\"xmax\"], box[\"ymax\"])), outline=outline_color)\n",
    "    draw.text((box[\"xmin\"], box[\"ymin\"] - 10), f\"{label}: {confidence:.2f}\", fill=color, font=font)\n",
    "\n",
    "# Display the image with the bounding boxes and confidence scores\n",
    "image.show()\n",
    "\n",
    "# Save the annotated image\n",
    "image.save(\"annotated_image.jpg\")\n",
    "\n",
    "# Display whether the image contains cancer\n",
    "if contains_cancer:\n",
    "    print(\"The image contains cancer.\")\n",
    "else:\n",
    "    print(\"The image does not contain cancer.\")\n"
   ]
  }
 ],
 "metadata": {
  "kernelspec": {
   "display_name": "Python 3 (ipykernel)",
   "language": "python",
   "name": "python3"
  },
  "language_info": {
   "codemirror_mode": {
    "name": "ipython",
    "version": 3
   },
   "file_extension": ".py",
   "mimetype": "text/x-python",
   "name": "python",
   "nbconvert_exporter": "python",
   "pygments_lexer": "ipython3",
   "version": "3.11.7"
  }
 },
 "nbformat": 4,
 "nbformat_minor": 5
}
